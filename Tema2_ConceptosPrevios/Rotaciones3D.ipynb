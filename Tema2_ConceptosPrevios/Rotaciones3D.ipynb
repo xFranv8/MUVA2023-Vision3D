{
 "cells": [
  {
   "cell_type": "markdown",
   "id": "477fe1d5",
   "metadata": {},
   "source": [
    "### Representación eje-ángulo de una matriz de rotación\n",
    "\n",
    "Autor: José M. Buenaposada (josemiguel.buenaposada@urjc.es)\n",
    "\n",
    "Curso: 2022-2023"
   ]
  },
  {
   "cell_type": "code",
   "execution_count": 1,
   "id": "558ec33a",
   "metadata": {},
   "outputs": [],
   "source": [
    "import numpy as np\n",
    "import matplotlib as mpl\n",
    "import matplotlib.pyplot as plt\n",
    "import cv2"
   ]
  },
  {
   "cell_type": "code",
   "execution_count": 2,
   "id": "2dedddc4",
   "metadata": {},
   "outputs": [],
   "source": [
    "def rot_matrix_to_axis_angle(R):\n",
    "    \"\"\"\n",
    "      Función que calcula la representación eje de rotación (3D) y ángulo de giro, \n",
    "      para una matriz de rotación dada.\n",
    "    \"\"\"\n",
    "    \n",
    "    # Calcular la descomposición espectral de R (diagonalización)\n",
    "    eigval, eigvec = np.linalg.eig(R)\n",
    "#    print(eigval)\n",
    "#    print(eigvec)\n",
    "    \n",
    "    # eigenvector with eigenvalue == 1 is the rotation axis\n",
    "    index_axis = np.where(eigval==1)[0][0]\n",
    "    rot_axis = eigvec[:, index_axis]\n",
    "    \n",
    "    # trace(R) = 1 + 2 * cos(angle)\n",
    "    rot_angle = np.arccos((np.trace(R) - 1) / 2)\n",
    "    \n",
    "    return np.float64(rot_axis), rot_angle"
   ]
  },
  {
   "cell_type": "code",
   "execution_count": 3,
   "id": "6f2de2ca",
   "metadata": {},
   "outputs": [],
   "source": [
    "def axis_angle_to_rot_matrix(rot_axis, rot_angle):\n",
    "    \"\"\"\n",
    "      Función que calcula la matriz de rotación a partir de la \n",
    "      representación eje de rotación (3D) y ángulo de giro, \n",
    "    \"\"\"\n",
    "    \n",
    "    rot_axis /= np.linalg.norm(rot_axis)\n",
    "    \n",
    "    cross = np.array([[0, -rot_axis[2], rot_axis[1]], \n",
    "                      [rot_axis[2], 0, -rot_axis[0]],\n",
    "                      [-rot_axis[1], rot_axis[0], 0]])\n",
    "    \n",
    "    rot_axis = rot_axis[:, np.newaxis]\n",
    "    U = rot_axis @ rot_axis.T\n",
    "    R = np.cos(rot_angle) * np.eye(3) + np.sin(rot_angle) * cross + (1 - np.cos(rot_angle)) * U\n",
    "    \n",
    "    return R"
   ]
  },
  {
   "cell_type": "code",
   "execution_count": 4,
   "id": "bd8e9dca",
   "metadata": {},
   "outputs": [],
   "source": [
    "# Rotación alrededor del eje  X de 45 grados\n",
    "angle_x = np.deg2rad(45)\n",
    "Rx = np.array([[1, 0, 0], \n",
    "               [0, np.cos(angle_x), -np.sin(angle_x)], \n",
    "               [0, np.sin(angle_x), np.cos(angle_x)]])\n",
    "\n",
    "# Rotación alrededor del eje Y de 35 grados\n",
    "angle_y = np.deg2rad(35)\n",
    "Ry = np.array([[np.cos(angle_y), 0, np.sin(angle_y)], \n",
    "               [0, 1, 0],\n",
    "               [-np.sin(angle_y), 0, np.cos(angle_y)]])\n",
    "\n",
    "R = Ry"
   ]
  },
  {
   "cell_type": "code",
   "execution_count": 5,
   "id": "dbca02a7",
   "metadata": {},
   "outputs": [
    {
     "name": "stdout",
     "output_type": "stream",
     "text": [
      "(3,)\n",
      "The rotation axis of R is =\n",
      " [0. 1. 0.]\n",
      "and the angle is = 34.99999999999999\n"
     ]
    },
    {
     "name": "stderr",
     "output_type": "stream",
     "text": [
      "/var/folders/bg/skm_74295j948bkpn_fg4hp40000gn/T/ipykernel_11613/368503972.py:19: ComplexWarning: Casting complex values to real discards the imaginary part\n",
      "  return np.float64(rot_axis), rot_angle\n"
     ]
    }
   ],
   "source": [
    "rot_axis, rot_angle = rot_matrix_to_axis_angle(R)\n",
    "\n",
    "print(rot_axis.shape)\n",
    "\n",
    "print(\"The rotation axis of R is =\\n\", np.float64(rot_axis))\n",
    "print(\"and the angle is =\", np.rad2deg(rot_angle))\n"
   ]
  },
  {
   "cell_type": "code",
   "execution_count": 6,
   "id": "aa8e76e3",
   "metadata": {},
   "outputs": [
    {
     "name": "stdout",
     "output_type": "stream",
     "text": [
      "The original rotation matrix is =\n",
      " [[ 0.81915204  0.          0.57357644]\n",
      " [ 0.          1.          0.        ]\n",
      " [-0.57357644  0.          0.81915204]]\n",
      "The recovered rotation matrix is =\n",
      " [[ 0.81915204  0.          0.57357644]\n",
      " [ 0.          1.          0.        ]\n",
      " [-0.57357644  0.          0.81915204]]\n"
     ]
    }
   ],
   "source": [
    "# Recuperación de la matriz de rotación a partir de la representación eje-ángulo.\n",
    "Rnew = axis_angle_to_rot_matrix(rot_axis, rot_angle)\n",
    "\n",
    "print(\"The original rotation matrix is =\\n\", R)\n",
    "print(\"The recovered rotation matrix is =\\n\", Rnew)\n"
   ]
  },
  {
   "cell_type": "code",
   "execution_count": 7,
   "id": "d228c30b",
   "metadata": {},
   "outputs": [
    {
     "name": "stdout",
     "output_type": "stream",
     "text": [
      "The rotation axis of R is (cv2.Rodrigues) =\n",
      " [[0.]\n",
      " [1.]\n",
      " [0.]]\n",
      "and the angle is (cv2.Rodrigues) = 34.99999999999999\n"
     ]
    }
   ],
   "source": [
    "# Using the cv2.Rodrigues method.\n",
    "vector_rodrigues, _ = cv2.Rodrigues(R)\n",
    "rot_angle_rodrigues = np.linalg.norm(vector_rodrigues)\n",
    "rot_axis_rodrigues = vector_rodrigues / rot_angle_rodrigues\n",
    "\n",
    "print(\"The rotation axis of R is (cv2.Rodrigues) =\\n\", rot_axis_rodrigues)\n",
    "print(\"and the angle is (cv2.Rodrigues) =\", np.rad2deg(rot_angle_rodrigues))"
   ]
  },
  {
   "cell_type": "code",
   "execution_count": null,
   "outputs": [],
   "source": [],
   "metadata": {
    "collapsed": false
   }
  }
 ],
 "metadata": {
  "kernelspec": {
   "display_name": "Python 3 (ipykernel)",
   "language": "python",
   "name": "python3"
  },
  "language_info": {
   "codemirror_mode": {
    "name": "ipython",
    "version": 3
   },
   "file_extension": ".py",
   "mimetype": "text/x-python",
   "name": "python",
   "nbconvert_exporter": "python",
   "pygments_lexer": "ipython3",
   "version": "3.10.6"
  }
 },
 "nbformat": 4,
 "nbformat_minor": 5
}
